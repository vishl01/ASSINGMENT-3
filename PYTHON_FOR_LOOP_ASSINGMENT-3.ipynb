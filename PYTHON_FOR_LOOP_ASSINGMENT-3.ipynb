{
 "cells": [
  {
   "cell_type": "markdown",
   "id": "6d4c2f1a-a066-4ac1-bf74-631b20c82e48",
   "metadata": {},
   "source": [
    "ASSINGMENT-3\n",
    "\n",
    "BASIC LEVEL:"
   ]
  },
  {
   "cell_type": "markdown",
   "id": "96ee23eb-cace-43c7-af83-29ce08f27043",
   "metadata": {},
   "source": [
    "Q-1.Write a Python program to print the numbers from 1 to 10 using a for loop."
   ]
  },
  {
   "cell_type": "code",
   "execution_count": 3,
   "id": "11f8d475-8bcb-49cb-a337-1e7de48522d4",
   "metadata": {},
   "outputs": [
    {
     "name": "stdout",
     "output_type": "stream",
     "text": [
      "1\n",
      "2\n",
      "3\n",
      "4\n",
      "5\n",
      "6\n",
      "7\n",
      "8\n",
      "9\n",
      "10\n"
     ]
    }
   ],
   "source": [
    "for i in range(1,11):\n",
    "    print(i)\n"
   ]
  },
  {
   "cell_type": "markdown",
   "id": "a0905bc6-f5e5-4c91-87e1-58ccf4db3987",
   "metadata": {},
   "source": [
    "Q-2.Create a program that calculates the sum of all numbers in a list using a for loop."
   ]
  },
  {
   "cell_type": "code",
   "execution_count": 12,
   "id": "d169033b-2423-488a-ab0c-3c9f167b75d5",
   "metadata": {},
   "outputs": [
    {
     "name": "stdout",
     "output_type": "stream",
     "text": [
      "150\n"
     ]
    }
   ],
   "source": [
    "my_list=[10,20,30,40,50]\n",
    "total_sum=0\n",
    "for i in my_list:\n",
    "    total_sum=i+total_sum\n",
    "    \n",
    "print(total_sum)"
   ]
  },
  {
   "cell_type": "markdown",
   "id": "ae49190a-6bdd-4d41-8199-6faf6c9a8f5b",
   "metadata": {},
   "source": [
    "Q-3.Write a program to print the characters of a string in reverse order using a `for` loop."
   ]
  },
  {
   "cell_type": "code",
   "execution_count": 17,
   "id": "71d490a0-9965-4495-8091-15ff463dd2ed",
   "metadata": {},
   "outputs": [
    {
     "name": "stdout",
     "output_type": "stream",
     "text": [
      "GNIRTS A SI SIHT"
     ]
    }
   ],
   "source": [
    "my_str=\"THIS IS A STRING\"\n",
    "\n",
    "for i in reversed(my_str):\n",
    "    print(i,end=\"\")"
   ]
  },
  {
   "cell_type": "markdown",
   "id": "544e51dd-d7ae-4da3-b5a6-66ba70337467",
   "metadata": {},
   "source": [
    "Q-4.Develop a program that finds the factorial of a given number using a `for` loop."
   ]
  },
  {
   "cell_type": "code",
   "execution_count": 30,
   "id": "850ad108-9b8c-4572-9f50-0824f47322c0",
   "metadata": {},
   "outputs": [
    {
     "name": "stdin",
     "output_type": "stream",
     "text": [
      "ENTER A NUMBER 3\n"
     ]
    },
    {
     "name": "stdout",
     "output_type": "stream",
     "text": [
      "The factorial of 3 is: 6\n"
     ]
    }
   ],
   "source": [
    "num=int(input(\"ENTER A NUMBER\"))\n",
    "factorial=1\n",
    "for i in range(1,num+1):\n",
    "    factorial=factorial*i\n",
    "print(f\"The factorial of {num} is: {factorial}\")\n"
   ]
  },
  {
   "cell_type": "markdown",
   "id": "6c7902b6-3fee-49b5-96d2-83f913e160e5",
   "metadata": {},
   "source": [
    "Q-5.Create a program to print the multiplication table of a given number using a `for` loop."
   ]
  },
  {
   "cell_type": "code",
   "execution_count": 39,
   "id": "142e2de9-9cc1-4425-ab47-9dfb52d2ad27",
   "metadata": {},
   "outputs": [
    {
     "name": "stdin",
     "output_type": "stream",
     "text": [
      "ENTER A NUMBER 5\n"
     ]
    },
    {
     "name": "stdout",
     "output_type": "stream",
     "text": [
      "5 x 1 = 5\n",
      "5 x 2 = 10\n",
      "5 x 3 = 15\n",
      "5 x 4 = 20\n",
      "5 x 5 = 25\n",
      "5 x 6 = 30\n",
      "5 x 7 = 35\n",
      "5 x 8 = 40\n",
      "5 x 9 = 45\n",
      "5 x 10 = 50\n"
     ]
    }
   ],
   "source": [
    "num=int(input(\"ENTER A NUMBER\"))\n",
    "for i in range(1,11):\n",
    "        table=i*num\n",
    "        print(f\"{num} x {i} = {table}\")"
   ]
  },
  {
   "cell_type": "markdown",
   "id": "3b9079a2-e572-48bb-9ba8-1bc65c5d6c28",
   "metadata": {},
   "source": [
    "Q-6.Write a program that counts the number of even and odd numbers in a list using a `for` loop."
   ]
  },
  {
   "cell_type": "code",
   "execution_count": 5,
   "id": "df42a209-1128-487b-84e1-d803908fd385",
   "metadata": {},
   "outputs": [
    {
     "name": "stdout",
     "output_type": "stream",
     "text": [
      "even numbers: 10 odd numbers: 11\n"
     ]
    }
   ],
   "source": [
    "my_list=[1,2,3,4,5,6,7,8,9,10,11,12,13,14,15,16,17,18,19,20,21]\n",
    "even_count=0\n",
    "odd_count=0\n",
    "\n",
    "for i in my_list:\n",
    "    if i%2==0:\n",
    "        even_count=even_count+1\n",
    "    else:\n",
    "        odd_count=odd_count+1\n",
    "print(f\"even numbers: {even_count} odd numbers: {odd_count}\")"
   ]
  },
  {
   "cell_type": "markdown",
   "id": "de456ce5-c8de-4306-9bc5-166072450f24",
   "metadata": {},
   "source": [
    "Q-7.Develop a program that prints the squares of numbers from 1 to 5 using a `for` loop."
   ]
  },
  {
   "cell_type": "code",
   "execution_count": 25,
   "id": "7ff4a4cb-7327-42b3-840b-c5b151d8fba9",
   "metadata": {},
   "outputs": [
    {
     "name": "stdout",
     "output_type": "stream",
     "text": [
      "SQUARE OF 1 IS: 1\n",
      "SQUARE OF 2 IS: 4\n",
      "SQUARE OF 3 IS: 9\n",
      "SQUARE OF 4 IS: 16\n",
      "SQUARE OF 5 IS: 25\n"
     ]
    }
   ],
   "source": [
    "for i in range(1,6):\n",
    "    square=i*i\n",
    "    print(f\"SQUARE OF {i} IS: {square}\")"
   ]
  },
  {
   "cell_type": "markdown",
   "id": "92ebc168-5e09-47f6-afb8-089b49fb6201",
   "metadata": {},
   "source": [
    "Q-8.Create a program to find the length of a string without using the `len()` function."
   ]
  },
  {
   "cell_type": "code",
   "execution_count": 33,
   "id": "99cac73d-26fa-4668-9a74-e908ef2918e1",
   "metadata": {},
   "outputs": [
    {
     "name": "stdout",
     "output_type": "stream",
     "text": [
      "43\n"
     ]
    }
   ],
   "source": [
    "MY_STR=\"THIS IS DATA SCIENCE PRO BATCH BY PW SKILLS\"\n",
    "length=0\n",
    "for i in MY_STR:\n",
    "    length=length+1\n",
    "print(length)\n",
    "    "
   ]
  },
  {
   "cell_type": "markdown",
   "id": "33591c98-8b80-4799-b9f9-387056b0da63",
   "metadata": {},
   "source": [
    "Q-9.Write a program that calculates the average of a list of numbers using a `for` loop."
   ]
  },
  {
   "cell_type": "code",
   "execution_count": 52,
   "id": "5dffcdf5-e6b4-412f-97d4-600bf0474311",
   "metadata": {},
   "outputs": [
    {
     "name": "stdout",
     "output_type": "stream",
     "text": [
      "20.0\n"
     ]
    }
   ],
   "source": [
    "MY_LIST=[20,30,20,20,10]\n",
    "add=0\n",
    "length=0\n",
    "for i in MY_LIST:\n",
    "    length=length+1\n",
    "    add=(add+i)\n",
    "    avg=add/length\n",
    "print(avg)"
   ]
  },
  {
   "cell_type": "markdown",
   "id": "e75dda97-c1ae-448e-80a3-2463ae5431fd",
   "metadata": {},
   "source": [
    "Q-10.Develop a program that prints the first `n` Fibonacci numbers using a `for` loop."
   ]
  },
  {
   "cell_type": "code",
   "execution_count": 54,
   "id": "7faa0a49-49ad-4889-8262-d6411d2ff447",
   "metadata": {},
   "outputs": [
    {
     "name": "stdin",
     "output_type": "stream",
     "text": [
      "Enter the value of n:  7\n"
     ]
    },
    {
     "name": "stdout",
     "output_type": "stream",
     "text": [
      "The first 7 Fibonacci numbers are:\n",
      "0 1 1 2 3 5 8 "
     ]
    }
   ],
   "source": [
    "# Input: Get the value of n from the user\n",
    "n = int(input(\"Enter the value of n: \"))\n",
    "\n",
    "# Initialize the first two Fibonacci numbers\n",
    "fib_sequence = [0, 1]\n",
    "\n",
    "# Generate the first n Fibonacci numbers using a for loop\n",
    "for i in range(2, n):\n",
    "    next_fibonacci = fib_sequence[-1] + fib_sequence[-2]\n",
    "    fib_sequence.append(next_fibonacci)\n",
    "\n",
    "# Output the result\n",
    "print(f\"The first {n} Fibonacci numbers are:\")\n",
    "for num in fib_sequence:\n",
    "    print(num, end=\" \")\n"
   ]
  },
  {
   "cell_type": "markdown",
   "id": "aa0eb933-1c2a-401b-bdd9-90a89dcea996",
   "metadata": {},
   "source": [
    "Intermediate Level:"
   ]
  },
  {
   "cell_type": "markdown",
   "id": "54dbdfd3-c45f-4f69-813e-ded0e9e93ce0",
   "metadata": {},
   "source": [
    "Q-11.Write a program to check if a given list contains any duplicates using a `for` loop."
   ]
  },
  {
   "cell_type": "code",
   "execution_count": 9,
   "id": "6d07cb7c-8a6d-4dea-804f-c48484d07aab",
   "metadata": {},
   "outputs": [
    {
     "name": "stdout",
     "output_type": "stream",
     "text": [
      "LIST HAS DUPLICATES\n"
     ]
    }
   ],
   "source": [
    "my_list=[1,2,3,4,5,5]\n",
    "duplicates=False\n",
    "seen=set()\n",
    "\n",
    "for i in my_list:\n",
    "    if i in seen:\n",
    "        duplicates=True\n",
    "        break\n",
    "    seen.add(i)\n",
    "if duplicates:\n",
    "    print(\"LIST HAS DUPLICATES\")\n",
    "else:\n",
    "    print(\"LIST DOSE'T HAVE DUPLICATES\")"
   ]
  },
  {
   "cell_type": "markdown",
   "id": "a9904e5d-b246-4ac2-8bf8-c1f2211244ba",
   "metadata": {},
   "source": [
    "Q-12.Create a program that prints the prime numbers in a given range using a `for` loop."
   ]
  },
  {
   "cell_type": "code",
   "execution_count": 19,
   "id": "ad55df4c-2ed8-4238-bf80-a116d52b1871",
   "metadata": {},
   "outputs": [
    {
     "name": "stdin",
     "output_type": "stream",
     "text": [
      "ENTER THE  STARTING RANGE 9\n",
      "ENTER THE ENDING RANGE 50\n"
     ]
    },
    {
     "name": "stdout",
     "output_type": "stream",
     "text": [
      "11 13 17 19 23 29 31 37 41 43 47 "
     ]
    }
   ],
   "source": [
    "start_range=int(input(\"ENTER THE  STARTING RANGE\"))\n",
    "end_range=int(input(\"ENTER THE ENDING RANGE\"))\n",
    "\n",
    "for num in range(start_range,end_range+1):\n",
    "    if num<2:\n",
    "        continue\n",
    "    is_prime=True\n",
    "    for i in range(2,int(num**0.5)+1):\n",
    "        if num%i==0:\n",
    "            is_prime=False\n",
    "            break\n",
    "    if is_prime:\n",
    "        print(num,end=\" \")\n",
    "    \n",
    "\n",
    "\n",
    "\n"
   ]
  },
  {
   "cell_type": "markdown",
   "id": "39005ec5-a818-48bb-a9c7-ec9130994327",
   "metadata": {},
   "source": [
    "Q-13.Develop a program that counts the number of vowels in a string using a `for` loop."
   ]
  },
  {
   "cell_type": "code",
   "execution_count": 28,
   "id": "5d3aed6e-159a-4fc1-aa23-a9ebd8f916de",
   "metadata": {},
   "outputs": [
    {
     "name": "stdin",
     "output_type": "stream",
     "text": [
      "ENTER STRING=>  THIS IS THE BST\n"
     ]
    },
    {
     "name": "stdout",
     "output_type": "stream",
     "text": [
      "NUMBER OF VOWELS=> 3\n"
     ]
    }
   ],
   "source": [
    "n=input(\"ENTER STRING=> \")\n",
    "vowel=0\n",
    "for char in n:\n",
    "    char_lower=char.lower()\n",
    "    if char_lower in \"aeiou\":\n",
    "        vowel=vowel+1\n",
    "print(f\"NUMBER OF VOWELS=> {vowel}\")"
   ]
  },
  {
   "cell_type": "markdown",
   "id": "faf68171-ce3b-4db2-97e0-b928e3950d94",
   "metadata": {},
   "source": [
    "Q-14.Write a program to find the maximum element in a 2D list using a nested `for` loop."
   ]
  },
  {
   "cell_type": "code",
   "execution_count": 55,
   "id": "812a7166-cf97-442d-9886-3e8245c9c2cc",
   "metadata": {},
   "outputs": [
    {
     "name": "stdout",
     "output_type": "stream",
     "text": [
      "6\n"
     ]
    }
   ],
   "source": [
    "matrix=[\n",
    "    [1,2,3],\n",
    "    [4,5,6]\n",
    "]\n",
    "\n",
    "for row in matrix:\n",
    "    for element in row:\n",
    "        if element>max_element:\n",
    "            max_element=element\n",
    "print(max_element)"
   ]
  },
  {
   "cell_type": "markdown",
   "id": "f336df2b-7e5f-42da-9a98-1cd644365658",
   "metadata": {},
   "source": [
    "Q-15.Create a program that removes all occurrences of a specific element from a list using a `for` loop."
   ]
  },
  {
   "cell_type": "code",
   "execution_count": 64,
   "id": "6fdad1d5-facf-4cda-bf95-99091ac50c44",
   "metadata": {},
   "outputs": [
    {
     "name": "stdout",
     "output_type": "stream",
     "text": [
      "AFTER REMOVING: 3 -> from the list [1, 2, 4, 5, 6, 2]\n"
     ]
    }
   ],
   "source": [
    "original_list=[1,2,3,4,5,3,6,2,3,]\n",
    "element_to_remove=3\n",
    "for element in original_list:\n",
    "    if element==element_to_remove:\n",
    "        original_list.remove(element)\n",
    "print(f\"AFTER REMOVING: {element} ->{original_list}\")\n"
   ]
  },
  {
   "cell_type": "markdown",
   "id": "adcf6bdb-4d51-44f2-8b4f-37ed22961633",
   "metadata": {},
   "source": [
    "Q-16.Develop a program that generates a multiplication table for numbers from 1 to 5 using a nested `for` loop."
   ]
  },
  {
   "cell_type": "code",
   "execution_count": 124,
   "id": "fb2585b4-6600-431d-a73b-2efef504125a",
   "metadata": {},
   "outputs": [
    {
     "name": "stdout",
     "output_type": "stream",
     "text": [
      "1x1=1\n",
      "1x2=2\n",
      "1x3=3\n",
      "1x4=4\n",
      "1x5=5\n",
      "1x6=6\n",
      "1x7=7\n",
      "1x8=8\n",
      "1x9=9\n",
      "1x10=10\n",
      "\n",
      "2x1=2\n",
      "2x2=4\n",
      "2x3=6\n",
      "2x4=8\n",
      "2x5=10\n",
      "2x6=12\n",
      "2x7=14\n",
      "2x8=16\n",
      "2x9=18\n",
      "2x10=20\n",
      "\n",
      "3x1=3\n",
      "3x2=6\n",
      "3x3=9\n",
      "3x4=12\n",
      "3x5=15\n",
      "3x6=18\n",
      "3x7=21\n",
      "3x8=24\n",
      "3x9=27\n",
      "3x10=30\n",
      "\n",
      "4x1=4\n",
      "4x2=8\n",
      "4x3=12\n",
      "4x4=16\n",
      "4x5=20\n",
      "4x6=24\n",
      "4x7=28\n",
      "4x8=32\n",
      "4x9=36\n",
      "4x10=40\n",
      "\n",
      "5x1=5\n",
      "5x2=10\n",
      "5x3=15\n",
      "5x4=20\n",
      "5x5=25\n",
      "5x6=30\n",
      "5x7=35\n",
      "5x8=40\n",
      "5x9=45\n",
      "5x10=50\n",
      "\n"
     ]
    }
   ],
   "source": [
    "start=1\n",
    "end=5\n",
    "for i in range(start,end+1):\n",
    "    # print(i)\n",
    "    for j in range(1,11):\n",
    "        table=i*j\n",
    "        print(f\"{i}x{j}={table}\")\n",
    "    print()"
   ]
  },
  {
   "cell_type": "markdown",
   "id": "232b76a4-07f5-4a5d-b35f-65dd865853b0",
   "metadata": {},
   "source": [
    "Q-17.Write a program that converts a list of Fahrenheit temperatures to Celsius using a `for` loop."
   ]
  },
  {
   "cell_type": "code",
   "execution_count": 146,
   "id": "52ba81ee-167c-4051-bc42-c10495ea1f48",
   "metadata": {},
   "outputs": [
    {
     "name": "stdout",
     "output_type": "stream",
     "text": [
      "10 fahrenheit = -12.222222222222221 celcius\n",
      "20 fahrenheit = -6.666666666666667 celcius\n",
      "30 fahrenheit = -1.1111111111111112 celcius\n",
      "32 fahrenheit = 0.0 celcius\n",
      "40 fahrenheit = 4.444444444444445 celcius\n"
     ]
    }
   ],
   "source": [
    "my_list=[10,20,30,32,40]\n",
    "\n",
    "for fahrenheit in my_list:\n",
    "    (celcius)=(fahrenheit-32)*5/9\n",
    "    print(f\"{fahrenheit} fahrenheit = {celcius} celcius\",)"
   ]
  },
  {
   "cell_type": "markdown",
   "id": "e332ba83-66b3-4220-b866-b26a9e5a27b2",
   "metadata": {},
   "source": [
    "Q-18.Create a program to print the common elements from two lists using a `for` loop."
   ]
  },
  {
   "cell_type": "code",
   "execution_count": 152,
   "id": "d55aaf37-0cc7-47d9-8e47-d53bd20f5086",
   "metadata": {},
   "outputs": [
    {
     "name": "stdout",
     "output_type": "stream",
     "text": [
      "[20, 90]\n"
     ]
    }
   ],
   "source": [
    "list_1=[20,90,40,80,60]\n",
    "list_2=[20,90,88,47,89]\n",
    "common_elements=[]\n",
    "for i in list_1:\n",
    "    if i in list_2:\n",
    "        common_elements.append(i)\n",
    "print(common_elements)"
   ]
  },
  {
   "cell_type": "markdown",
   "id": "279394b7-3b51-4df3-bfbd-86abaad820c2",
   "metadata": {},
   "source": [
    "Q-19.Develop a program that prints the pattern of right-angled triangles using a `for` loop. Use ‘*’ to draw the\n",
    "pattern"
   ]
  },
  {
   "cell_type": "code",
   "execution_count": 170,
   "id": "4c2d22e1-4986-4e31-9dcf-28d2f6028d68",
   "metadata": {},
   "outputs": [
    {
     "name": "stdout",
     "output_type": "stream",
     "text": [
      "* \n",
      "* * \n",
      "* * * \n",
      "* * * * \n",
      "* * * * * \n",
      "* * * * * * \n",
      "* * * * * * * \n",
      "* * * * * * * * \n"
     ]
    }
   ],
   "source": [
    "for i in range(1,8+1):\n",
    "    for j in range(1,i+1):\n",
    "        print(\"*\",end=\" \")\n",
    "    print()"
   ]
  },
  {
   "cell_type": "markdown",
   "id": "51b4b7e2-674b-43e0-8907-860820721de8",
   "metadata": {},
   "source": [
    "Q-20.Write a program to find the greatest common divisor (GCD) of two numbers using a `for` loop."
   ]
  },
  {
   "cell_type": "code",
   "execution_count": 1,
   "id": "ec8e9305-a618-4cab-a304-2c623a61b8d9",
   "metadata": {},
   "outputs": [
    {
     "name": "stdin",
     "output_type": "stream",
     "text": [
      "Enter the first number:  4\n",
      "Enter the second number:  6\n"
     ]
    },
    {
     "name": "stdout",
     "output_type": "stream",
     "text": [
      "The GCD of 6 and 4 is: 2\n"
     ]
    }
   ],
   "source": [
    "num1 = int(input(\"Enter the first number: \"))\n",
    "num2 = int(input(\"Enter the second number: \"))\n",
    "\n",
    "if num1 < num2:\n",
    "    num1, num2 = num2, num1\n",
    "\n",
    "for i in range(num2, 0, -1):\n",
    "    if num1 % i == 0 and num2 % i == 0:\n",
    "        gcd_result = i\n",
    "        break\n",
    "\n",
    "print(f\"The GCD of {num1} and {num2} is: {gcd_result}\")\n"
   ]
  },
  {
   "cell_type": "markdown",
   "id": "f2ecb100-b13e-4ad8-93af-582c865ccf96",
   "metadata": {},
   "source": [
    "Advanced Level:"
   ]
  },
  {
   "cell_type": "markdown",
   "id": "81ae0b8b-47bf-4617-b012-62726ede446b",
   "metadata": {},
   "source": [
    "Q-21.Create a program that calculates the sum of the digits of numbers in a list using a list comprehension."
   ]
  },
  {
   "cell_type": "code",
   "execution_count": 14,
   "id": "5caa1697-360c-4e90-98dd-ceb512ff71d5",
   "metadata": {},
   "outputs": [
    {
     "name": "stdout",
     "output_type": "stream",
     "text": [
      "12\n",
      "16\n",
      "17\n",
      "21\n",
      "25\n"
     ]
    }
   ],
   "source": [
    "mylist=[228,385,458,759,799]\n",
    "\n",
    "digit_sums = [sum(int(digit) for digit in str(num)) for num in mylist]\n",
    "\n",
    "for i in range (len(mylist)):\n",
    "    print(digit_sums[i])"
   ]
  },
  {
   "cell_type": "markdown",
   "id": "af3c705d-85e0-4683-8737-d792dfe8622a",
   "metadata": {},
   "source": [
    "Q-22.Write a program to find the prime factors of a given number using a `for` loop and list comprehension."
   ]
  },
  {
   "cell_type": "code",
   "execution_count": null,
   "id": "67409e51-77bc-4ee7-8370-77da5d1b54f6",
   "metadata": {},
   "outputs": [],
   "source": [
    "num=int(input(\"ENTER A NUMBEFR\"))\n",
    "\n",
    "prime_factor=[i for i in range()]"
   ]
  },
  {
   "cell_type": "markdown",
   "id": "1a19cf27-add6-480b-b448-25ef103b7244",
   "metadata": {},
   "source": [
    "Q-23.Develop a program that extracts unique elements from a list and stores them in a new list using a list\n",
    "comprehension."
   ]
  },
  {
   "cell_type": "code",
   "execution_count": 18,
   "id": "0512124a-fbcc-4603-ae27-384304c92991",
   "metadata": {},
   "outputs": [
    {
     "name": "stdout",
     "output_type": "stream",
     "text": [
      "NEW LIST: [2, 3, 4, 5, 7]\n"
     ]
    }
   ],
   "source": [
    "my_list=[2,4,3,5,7,2,4]\n",
    "\n",
    "new_list=list(set(item for item in my_list))\n",
    "print(\"NEW LIST:\",new_list)"
   ]
  },
  {
   "cell_type": "markdown",
   "id": "8a713331-79fc-4b0f-8d47-e4cea2d57fa7",
   "metadata": {},
   "source": [
    "Q-24.Create a program that generates a list of all palindromic numbers up to a specified limit using a list\n",
    "comprehension."
   ]
  },
  {
   "cell_type": "code",
   "execution_count": 1,
   "id": "4a2be0eb-c1d4-40bd-8ea5-5990ed172b13",
   "metadata": {},
   "outputs": [
    {
     "name": "stdin",
     "output_type": "stream",
     "text": [
      "ENTER A LIMIT 100\n"
     ]
    },
    {
     "name": "stdout",
     "output_type": "stream",
     "text": [
      "[0, 1, 2, 3, 4, 5, 6, 7, 8, 9, 11, 22, 33, 44, 55, 66, 77, 88, 99]\n"
     ]
    }
   ],
   "source": [
    "num=int(input(\"ENTER A LIMIT\"))\n",
    "palndrm_num=[i for i in range(num) if str(i)==\"\".join(reversed(str(i)))] #METHOD--1\n",
    "palndrm_num=[i for i in range(num) if str(i)==str(i)[::-1]] #METHOD--2\n",
    "print(palndrm_num)"
   ]
  },
  {
   "cell_type": "markdown",
   "id": "b05b0db2-00fc-41ac-be5f-bdd362e2df13",
   "metadata": {},
   "source": [
    "Q-25.Write a program to flatten a nested list using list comprehension."
   ]
  },
  {
   "cell_type": "code",
   "execution_count": 36,
   "id": "4ca45f58-e315-4b22-a599-52a886283e9c",
   "metadata": {},
   "outputs": [
    {
     "name": "stdout",
     "output_type": "stream",
     "text": [
      "Original Nested List: [[1, 2, 3], [4, 5], [6, 7, 8]]\n",
      "Flattened List: [1, 2, 3, 4, 5, 6, 7, 8]\n"
     ]
    }
   ],
   "source": [
    "nested_list = [[1, 2, 3], [4, 5], [6, 7, 8]]\n",
    "\n",
    "flattened_list = [element for sublist in nested_list for element in sublist]\n",
    "\n",
    "print(f\"Original Nested List: {nested_list}\")\n",
    "print(f\"Flattened List: {flattened_list}\")\n"
   ]
  },
  {
   "cell_type": "code",
   "execution_count": 38,
   "id": "2166588b-f8bc-4844-9197-3e3d46c024d9",
   "metadata": {},
   "outputs": [
    {
     "name": "stdout",
     "output_type": "stream",
     "text": [
      "[1, 3, 3, 4, 6, 7, 5, 6]\n"
     ]
    }
   ],
   "source": [
    "nested_list=[[1,3],[3,4,6],[7,5,6]]\n",
    "flanttened_list=[element for sublist in nested_list for element in sublist]\n",
    "\n",
    "print(flanttened_list)"
   ]
  },
  {
   "cell_type": "markdown",
   "id": "233544e8-744d-48d8-afcb-7a1a82fe3394",
   "metadata": {},
   "source": [
    "Q-26.Develop a program that computes the sum of even and odd numbers in a list separately using list\n",
    "comprehension."
   ]
  },
  {
   "cell_type": "code",
   "execution_count": 71,
   "id": "1f438819-39a7-4b59-b3cb-b9c02309ff59",
   "metadata": {},
   "outputs": [
    {
     "name": "stdout",
     "output_type": "stream",
     "text": [
      "SUM OF EVEN NUMBERS => 90\n",
      "SUM OF ODD NUMBERS => 99\n"
     ]
    }
   ],
   "source": [
    "my_list=[2,3,4,5,6,7,8,9,10,11,12,13,14,15,16,17,18,19]\n",
    "\n",
    "even_numbers=sum([ i for i in my_list if i%2==0 ])\n",
    "odd_numbers=sum([i for i in my_list if i%2==1])\n",
    "\n",
    "print(f\"SUM OF EVEN NUMBERS => {even_numbers}\")\n",
    "print(f\"SUM OF ODD NUMBERS => {odd_numbers}\")"
   ]
  },
  {
   "cell_type": "markdown",
   "id": "3e8ae595-26cc-469b-9ff3-b9f094b035d6",
   "metadata": {},
   "source": [
    "Q-27.Create a program that generates a list of squares of odd numbers between 1 and 10 using list"
   ]
  },
  {
   "cell_type": "code",
   "execution_count": 66,
   "id": "904c90f5-425f-46da-b64c-245acfcad326",
   "metadata": {},
   "outputs": [
    {
     "name": "stdin",
     "output_type": "stream",
     "text": [
      "ENTER STARTING RANGE 1\n",
      "ENTER ENDING RANGE 10\n"
     ]
    },
    {
     "name": "stdout",
     "output_type": "stream",
     "text": [
      "[1, 9, 25, 49, 81]\n"
     ]
    }
   ],
   "source": [
    "start_range=int(input(\"ENTER STARTING RANGE\"))\n",
    "end_range=int(input(\"ENTER ENDING RANGE\"))\n",
    "\n",
    "odd_squares=[i**2 for i in range(start_range,end_range) if  i%2==1]\n",
    "\n",
    "print(odd_squares)\n"
   ]
  },
  {
   "cell_type": "markdown",
   "id": "6ea3ff3c-a856-43ad-a990-49c55edf3651",
   "metadata": {},
   "source": [
    "Q-28.Write a program that combines two lists into a dictionary using list comprehension."
   ]
  },
  {
   "cell_type": "code",
   "execution_count": 75,
   "id": "9271cca0-8b58-445b-89a0-8c4884917e11",
   "metadata": {},
   "outputs": [
    {
     "name": "stdout",
     "output_type": "stream",
     "text": [
      "{1: 1, 2: 4, 3: 9, 4: 16, 5: 25}\n"
     ]
    }
   ],
   "source": [
    "list_1=[1,2,3,4,5]\n",
    "list_2=[1,4,9,16,25]\n",
    "\n",
    "combine={list_1[i]:list_2[i]for i in range(min(len(list_1),len(list_2)))}\n",
    "print(combine)"
   ]
  },
  {
   "cell_type": "markdown",
   "id": "1192a091-1349-43a6-bde1-903e656c0825",
   "metadata": {},
   "source": [
    "Q-29.Develop a program that extracts the vowels from a string and stores them in a list using list comprehension."
   ]
  },
  {
   "cell_type": "code",
   "execution_count": 93,
   "id": "77a93e35-9f1f-4b35-92cc-9922bca68ab6",
   "metadata": {},
   "outputs": [
    {
     "name": "stdout",
     "output_type": "stream",
     "text": [
      "this is the string form which we are going to extract vowels.\n",
      "['i', 'i', 'e', 'i', 'o', 'i', 'e', 'a', 'e', 'o', 'i', 'o', 'e', 'a', 'o', 'e']\n",
      "16\n"
     ]
    }
   ],
   "source": [
    "my_str=\"this is the string form which we are going to extract vowels.\"\n",
    "\n",
    "vowel_list=([i for i in my_str if i.lower()in\"aeiou\"])\n",
    "vowel_count=len(vowel_list)\n",
    "print(my_str)\n",
    "print(vowel_list)\n",
    "print(vowel_count)"
   ]
  },
  {
   "cell_type": "markdown",
   "id": "b4a69f34-64b9-4a3c-8179-a276e4739d21",
   "metadata": {},
   "source": [
    "Q-30.Create a program that removes all non-numeric characters from a list of strings using list comprehension."
   ]
  },
  {
   "cell_type": "code",
   "execution_count": 2,
   "id": "d099fac4-1857-4fa1-a057-0c3ee640e093",
   "metadata": {},
   "outputs": [
    {
     "name": "stdout",
     "output_type": "stream",
     "text": [
      "Original List: ['abc123', '456def', '789ghi', 'jkl@#$%89']\n",
      "Numeric Strings: ['123', '456', '789', '89']\n"
     ]
    }
   ],
   "source": [
    "string_list = [\"abc123\", \"456def\", \"789ghi\", \"jkl@#$%89\"]\n",
    "\n",
    "numeric_strings = [''.join(char for char in s if char.isdigit()) for s in string_list]\n",
    "\n",
    "print(\"Original List:\", string_list)\n",
    "print(\"Numeric Strings:\", numeric_strings)\n",
    "\n"
   ]
  },
  {
   "cell_type": "markdown",
   "id": "30ed0f88-ad07-4265-ad29-c1ae6f5f30f3",
   "metadata": {},
   "source": [
    "Q-31."
   ]
  },
  {
   "cell_type": "code",
   "execution_count": 29,
   "id": "d3b3ee63-3555-46e2-82d1-61d9c27df2b6",
   "metadata": {},
   "outputs": [
    {
     "name": "stdin",
     "output_type": "stream",
     "text": [
      "enter a limit 25\n"
     ]
    },
    {
     "name": "stdout",
     "output_type": "stream",
     "text": [
      "[1, 3, 5, 7, 9, 11, 13, 15, 17, 19, 21, 23]\n"
     ]
    }
   ],
   "source": [
    "# Set the limit for prime numbers\n",
    "n=int(input(\"enter a limit\"))\n",
    "prime=[0]\n",
    "prime=[1]\n",
    "p=2\n",
    "# Initialize a list of boolean values indicating primality\n",
    "prime_number=[i for i in range(1,n) if i%2==1]\n",
    "print(prime_number)"
   ]
  },
  {
   "cell_type": "markdown",
   "id": "672a9e14-fe71-4d67-8ac6-b18213158669",
   "metadata": {},
   "source": [
    "Q-33.Develop a program that generates a list of all possible combinations of two lists using list comprehension."
   ]
  },
  {
   "cell_type": "code",
   "execution_count": 36,
   "id": "ea4604a0-4f8a-4639-aa39-6780f84fe515",
   "metadata": {},
   "outputs": [
    {
     "name": "stdout",
     "output_type": "stream",
     "text": [
      "[(100, 200), (100, 400), (100, 600), (200, 200), (200, 400), (200, 600), (300, 200), (300, 400), (300, 600)]\n"
     ]
    }
   ],
   "source": [
    "list1=[100,200,300]\n",
    "list2=[200,400,600]\n",
    "combinations = [(x, y) for x in list1 for y in list2]\n",
    "\n",
    "# combination_list=[(x,y) for x in list1 for y in list2]\n",
    "print(combinations)\n"
   ]
  },
  {
   "cell_type": "markdown",
   "id": "36e7881c-f5dc-42a5-8e72-b9e743b1d59e",
   "metadata": {},
   "source": [
    "Q-34.Write a program that calculates the mean, median, and mode of a list of numbers using list\n",
    "comprehension."
   ]
  },
  {
   "cell_type": "code",
   "execution_count": 61,
   "id": "93da7504-b57e-4fe0-9458-26b16c987285",
   "metadata": {},
   "outputs": [
    {
     "name": "stdout",
     "output_type": "stream",
     "text": [
      "[5.428571428571429]\n",
      "7.0\n",
      "[7]\n"
     ]
    }
   ],
   "source": [
    "from collections import Counter\n",
    "my_list=[2,7,4,7,1,8,9]\n",
    "\n",
    "mean=[sum(my_list)/len(my_list) ]\n",
    "sorted_numbers=sorted(my_list)\n",
    "n=len(my_list)\n",
    "median = (sorted_numbers[n // 2] + sorted_numbers[(n - 1) // 2]) / 2\n",
    "counter = Counter(my_list)\n",
    "max_count = max(counter.values())\n",
    "mode = [num for num, count in counter.items() if count == max_count]\n",
    "print(mean)\n",
    "print(median)\n",
    "print(mode)"
   ]
  },
  {
   "cell_type": "markdown",
   "id": "cbd78794-f32b-4f3c-b236-9fd55fe58db0",
   "metadata": {},
   "source": [
    "Q-35.Create a program that generates Pascal's triangle up to a specified number of rows using list\n",
    "comprehension.\n"
   ]
  },
  {
   "cell_type": "code",
   "execution_count": null,
   "id": "646c8103-eed8-45d9-993b-121410d8b1c7",
   "metadata": {},
   "outputs": [],
   "source": []
  },
  {
   "cell_type": "markdown",
   "id": "3fdc6390-654e-4d7f-9035-8e4c128389be",
   "metadata": {},
   "source": [
    "Q-36.Develop a program that calculates the sum of the digits of a factorial of numbers from 1 to 5 using list\n",
    "comprehension."
   ]
  },
  {
   "cell_type": "code",
   "execution_count": 4,
   "id": "c94c13f1-e17e-4e6c-b21c-26cad5ecda68",
   "metadata": {},
   "outputs": [
    {
     "name": "stdout",
     "output_type": "stream",
     "text": [
      "Sum of digits of 1! is: 1\n",
      "Sum of digits of 2! is: 2\n",
      "Sum of digits of 3! is: 6\n",
      "Sum of digits of 4! is: 6\n",
      "Sum of digits of 5! is: 3\n"
     ]
    }
   ],
   "source": [
    "import math\n",
    "factorial_sums = [sum(int(digit) for digit in str(math.factorial(i))) for i in range(1, 6)]\n",
    "\n",
    "# Print the results\n",
    "for i, result in enumerate(factorial_sums, start=1):\n",
    "    print(f\"Sum of digits of {i}! is: {result}\")"
   ]
  },
  {
   "cell_type": "code",
   "execution_count": null,
   "id": "52917f5c-5531-4d03-8548-6cb821a3de37",
   "metadata": {},
   "outputs": [],
   "source": []
  },
  {
   "cell_type": "code",
   "execution_count": null,
   "id": "30ad7936-4e13-4843-b341-b85bdd01d5ff",
   "metadata": {},
   "outputs": [],
   "source": []
  }
 ],
 "metadata": {
  "kernelspec": {
   "display_name": "Python 3 (ipykernel)",
   "language": "python",
   "name": "python3"
  },
  "language_info": {
   "codemirror_mode": {
    "name": "ipython",
    "version": 3
   },
   "file_extension": ".py",
   "mimetype": "text/x-python",
   "name": "python",
   "nbconvert_exporter": "python",
   "pygments_lexer": "ipython3",
   "version": "3.10.8"
  }
 },
 "nbformat": 4,
 "nbformat_minor": 5
}
